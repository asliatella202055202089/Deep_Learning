{
  "nbformat": 4,
  "nbformat_minor": 0,
  "metadata": {
    "colab": {
      "provenance": [],
      "private_outputs": true,
      "mount_file_id": "1bCenRZO91knaIxRib0PNSxNqG0yQaTFc",
      "authorship_tag": "ABX9TyNqWqqQD1ppH/HTfdiTyeeu",
      "include_colab_link": true
    },
    "kernelspec": {
      "name": "python3",
      "display_name": "Python 3"
    },
    "language_info": {
      "name": "python"
    },
    "accelerator": "GPU",
    "gpuClass": "standard"
  },
  "cells": [
    {
      "cell_type": "markdown",
      "metadata": {
        "id": "view-in-github",
        "colab_type": "text"
      },
      "source": [
        "<a href=\"https://colab.research.google.com/github/asliatella202055202089/Deep_Learning/blob/main/Untitled0.ipynb\" target=\"_parent\"><img src=\"https://colab.research.google.com/assets/colab-badge.svg\" alt=\"Open In Colab\"/></a>"
      ]
    },
    {
      "cell_type": "code",
      "source": [
        "!mkdir /content/trafficsigns"
      ],
      "metadata": {
        "id": "cA718CF24Hk8"
      },
      "execution_count": null,
      "outputs": []
    },
    {
      "cell_type": "code",
      "source": [
        "cp /content/drive/MyDrive/DeepLearning/archive.zip /content/trafficsigns"
      ],
      "metadata": {
        "id": "75gZaTem4LCC"
      },
      "execution_count": null,
      "outputs": []
    },
    {
      "cell_type": "code",
      "source": [
        "!unzip /content/drive/MyDrive/DeepLearning/archive.zip -d /content/trafficsigns"
      ],
      "metadata": {
        "id": "rPAKlu-H4Lsf"
      },
      "execution_count": null,
      "outputs": []
    },
    {
      "cell_type": "code",
      "source": [
        "import numpy as np \n",
        "import pandas as pd\n",
        "import pickle\n",
        "import matplotlib.pyplot as plt\n",
        "from timeit import default_timer as timer\n",
        "\n",
        "from keras.utils.np_utils import to_categorical\n",
        "from keras.models import Sequential\n",
        "from keras.layers import Dense, Dropout, Flatten, Conv2D, MaxPool2D, AvgPool2D, BatchNormalization, Reshape\n",
        "from keras.preprocessing.image import ImageDataGenerator\n",
        "from keras.callbacks import LearningRateScheduler\n",
        "\n",
        "import os\n",
        "for dirname, _, filenames in os.walk('/content/trafficsigns'):\n",
        "    for filename in filenames:\n",
        "        print(os.path.join(dirname, filename))\n",
        "\n",
        "print(os.listdir('/content/trafficsigns'))"
      ],
      "metadata": {
        "id": "R19cx4e58yOa"
      },
      "execution_count": null,
      "outputs": []
    },
    {
      "cell_type": "code",
      "source": [
        "with open('/content/trafficsigns/data2.pickle', 'rb') as f:\n",
        "    data = pickle.load(f, encoding='latin1')\n",
        "\n",
        "data['y_train'] = to_categorical(data['y_train'], num_classes=43)\n",
        "data['y_validation'] = to_categorical(data['y_validation'], num_classes=43)\n",
        "\n",
        "\n",
        "data['x_train'] = data['x_train'].transpose(0, 2, 3, 1)\n",
        "data['x_validation'] = data['x_validation'].transpose(0, 2, 3, 1)\n",
        "data['x_test'] = data['x_test'].transpose(0, 2, 3, 1)\n",
        "\n",
        "for i, j in data.items():\n",
        "    if i == 'labels':\n",
        "        print(i + ':', len(j))\n",
        "    else: \n",
        "        print(i + ':', j.shape)\n",
        "\n",
        "y_test: (12630,)\n",
        "y_validation: (4410, 43)\n",
        "x_validation: (4410, 32, 32, 3)\n",
        "x_train: (86989, 32, 32, 3)\n",
        "y_train: (86989, 43)\n",
        "labels: 43\n",
        "x_test: (12630, 32, 32, 3)"
      ],
      "metadata": {
        "id": "nSuBQd-K88xn"
      },
      "execution_count": null,
      "outputs": []
    },
    {
      "cell_type": "code",
      "source": [
        "%matplotlib inline\n",
        "\n",
        "def convert_to_grid(x_input):\n",
        "    N, H, W, C = x_input.shape\n",
        "    grid_size = int(np.ceil(np.sqrt(N)))\n",
        "    grid_height = H * grid_size + 1 * (grid_size - 1)\n",
        "    grid_width = W * grid_size + 1 * (grid_size - 1)\n",
        "    grid = np.zeros((grid_height, grid_width, C)) + 255\n",
        "    next_idx = 0\n",
        "    y0, y1 = 0, H\n",
        "    for y in range(grid_size):\n",
        "        x0, x1 = 0, W\n",
        "        for x in range(grid_size):\n",
        "            if next_idx < N:\n",
        "                img = x_input[next_idx]\n",
        "                low, high = np.min(img), np.max(img)\n",
        "                grid[y0:y1, x0:x1] = 255.0 * (img - low) / (high - low)\n",
        "                next_idx += 1\n",
        "            x0 += W + 1\n",
        "            x1 += W + 1\n",
        "        y0 += H + 1\n",
        "        y1 += H + 1\n",
        " \n",
        "    return grid\n",
        "\n",
        "examples = data['x_train'][:81, :, :, :]\n",
        "print(examples.shape)  # (81, 32, 32, 3)\n",
        "\n",
        "fig = plt.figure()\n",
        "grid = convert_to_grid(examples)\n",
        "plt.imshow(grid.astype('uint8'), cmap='gray')\n",
        "plt.axis('off')\n",
        "plt.gcf().set_size_inches(15, 15)\n",
        "plt.title('Some examples of training data', fontsize=18)\n",
        "\n",
        "plt.show()\n",
        "\n",
        "fig.savefig('training_examples.png')\n",
        "plt.close()"
      ],
      "metadata": {
        "id": "S2okUCRK9RCL"
      },
      "execution_count": null,
      "outputs": []
    },
    {
      "cell_type": "code",
      "source": [
        "model = Sequential()\n",
        "model.add(Conv2D(32, kernel_size=3, padding='same', activation='relu', input_shape=(32, 32, 3)))\n",
        "model.add(MaxPool2D(pool_size=2))\n",
        "model.add(Flatten())\n",
        "model.add(Dense(500, activation='relu'))\n",
        "model.add(Dense(43, activation='softmax'))\n",
        "model.compile(optimizer='adam', loss='categorical_crossentropy', metrics=['accuracy'])"
      ],
      "metadata": {
        "id": "QO_0ntyO9g21"
      },
      "execution_count": null,
      "outputs": []
    },
    {
      "cell_type": "code",
      "source": [
        "annealer = LearningRateScheduler(lambda x: 1e-3 * 0.95 ** (x + epochs))\n",
        "epochs = 15\n",
        "\n",
        "h = model.fit(data['x_train'][:10], data['y_train'][:10],\n",
        "              batch_size=5, epochs = epochs,\n",
        "              validation_data = (data['x_validation'], data['y_validation']),\n",
        "              callbacks=[annealer], verbose=1)"
      ],
      "metadata": {
        "id": "fN1SPdqC9lVm"
      },
      "execution_count": null,
      "outputs": []
    },
    {
      "cell_type": "code",
      "source": [
        "print('Epochs={0:d}, training accuracy={1:.5f}, validation accuracy={2:.5f}'.\\\n",
        "      format(epochs, max(h.history['accuracy']), max(h.history['val_accuracy'])))"
      ],
      "metadata": {
        "id": "bTJfgadp9o-J"
      },
      "execution_count": null,
      "outputs": []
    },
    {
      "cell_type": "code",
      "source": [
        "%matplotlib inline\n",
        "plt.rcParams['figure.figsize'] = (15.0, 5.0) \n",
        "plt.rcParams['image.interpolation'] = 'nearest'\n",
        "plt.rcParams['font.family'] = 'Times New Roman'\n",
        "\n",
        "fig = plt.figure()\n",
        "plt.plot(h.history['accuracy'], '-o', linewidth=3.0)\n",
        "plt.plot(h.history['val_accuracy'], '-o', linewidth=3.0)\n",
        "plt.title('Overfitting small data', fontsize=22)\n",
        "plt.legend(['train', 'validation'], loc='upper left', fontsize='xx-large')\n",
        "plt.xlabel('Epoch', fontsize=20)\n",
        "plt.ylabel('Accuracy', fontsize=20)\n",
        "plt.tick_params(labelsize=18)\n",
        "\n",
        "plt.show()\n",
        "\n",
        "fig.savefig('overfitting_small_data.png')\n",
        "plt.close()"
      ],
      "metadata": {
        "id": "C5l4xLMG9syn"
      },
      "execution_count": null,
      "outputs": []
    },
    {
      "cell_type": "code",
      "source": [
        "filters = [3, 5, 9, 13, 15, 19, 23, 25, 31]\n",
        "model = [0] * len(filters)\n",
        "\n",
        "for i in range(len(model)):\n",
        "    model[i] = Sequential()\n",
        "    model[i].add(Conv2D(32, kernel_size=filters[i], padding='same', activation='relu', input_shape=(32, 32, 3)))\n",
        "    model[i].add(MaxPool2D(pool_size=2))\n",
        "    model[i].add(Flatten())\n",
        "    model[i].add(Dense(500, activation='relu'))\n",
        "    model[i].add(Dense(43, activation='softmax'))\n",
        "    model[i].compile(optimizer='adam', loss='categorical_crossentropy', metrics=['accuracy'])"
      ],
      "metadata": {
        "id": "GahJBwx692kX"
      },
      "execution_count": null,
      "outputs": []
    },
    {
      "cell_type": "code",
      "source": [
        "annealer = LearningRateScheduler(lambda x: 1e-3 * 0.95 ** (x + epochs))\n",
        "epochs = 5\n",
        "\n",
        "h = [0] * len(model)\n",
        "\n",
        "for i in range(len(h)):\n",
        "    h[i] = model[i].fit(data['x_train'], data['y_train'],\n",
        "                        batch_size=5, epochs = epochs,\n",
        "                        validation_data = (data['x_validation'], data['y_validation']),\n",
        "                        callbacks=[annealer], verbose=0)\n",
        "    \n",
        "    print('Model with filters {0:d}x{0:d}, epochs={1:d}, training accuracy={2:.5f}, validation accuracy={3:.5f}'.\\\n",
        "      format(filters[i], epochs, max(h[i].history['accuracy']), max(h[i].history['val_accuracy'])))"
      ],
      "metadata": {
        "id": "4sWm6wca96hz"
      },
      "execution_count": null,
      "outputs": []
    },
    {
      "cell_type": "code",
      "source": [
        "%matplotlib inline\n",
        "plt.rcParams['figure.figsize'] = (15.0, 15.0) \n",
        "plt.rcParams['image.interpolation'] = 'nearest'\n",
        "plt.rcParams['font.family'] = 'Times New Roman'\n",
        "\n",
        "fig = plt.figure()\n",
        "plt.subplot(2, 1, 1)\n",
        "plt.plot(h[8].history['accuracy'], '-o', linewidth=3.0)\n",
        "plt.plot(h[7].history['accuracy'], '-s', linewidth=3.0)\n",
        "plt.plot(h[6].history['accuracy'], '-D', linewidth=3.0)\n",
        "plt.plot(h[5].history['accuracy'], '-D', linewidth=3.0)\n",
        "plt.plot(h[4].history['accuracy'], '-o', linewidth=3.0)\n",
        "plt.plot(h[3].history['accuracy'], '-o', linewidth=3.0)\n",
        "plt.plot(h[2].history['accuracy'], '-o', linewidth=3.0)\n",
        "plt.plot(h[1].history['accuracy'], '-o', linewidth=3.0)\n",
        "plt.plot(h[0].history['accuracy'], '-o', linewidth=3.0)\n",
        "plt.legend(['filter 31', 'filter 25', 'filter 23', 'filter 19', 'filter 15', 'filter 13', 'filter 9', 'filter 5', 'filter 3'], loc='lower right', fontsize='xx-large', borderpad=2)\n",
        "plt.xlabel('Epoch', fontsize=20, fontname='Times New Roman')\n",
        "plt.ylabel('Training Accuracy', fontsize=20, fontname='Times New Roman')\n",
        "plt.yscale('linear') \n",
        "plt.ylim(0.85, 1.0)\n",
        "plt.xlim(0.5, 5.3) \n",
        "plt.title('Accuracy for different sizes of filters', fontsize=22)\n",
        "plt.tick_params(labelsize=18)\n",
        "\n",
        "plt.subplot(2, 1, 2)\n",
        "\n",
        "plt.plot(h[8].history['val_accuracy'], '-o', linewidth=3.0)\n",
        "plt.plot(h[7].history['val_accuracy'], '-s', linewidth=3.0)\n",
        "plt.plot(h[6].history['val_accuracy'], '-D', linewidth=3.0)\n",
        "plt.plot(h[5].history['val_accuracy'], '-D', linewidth=3.0)\n",
        "plt.plot(h[4].history['val_accuracy'], '-o', linewidth=3.0)\n",
        "plt.plot(h[3].history['val_accuracy'], '-o', linewidth=3.0)\n",
        "plt.plot(h[2].history['val_accuracy'], '-o', linewidth=3.0)\n",
        "plt.plot(h[1].history['val_accuracy'], '-o', linewidth=3.0)\n",
        "plt.plot(h[0].history['val_accuracy'], '-o', linewidth=3.0)\n",
        "plt.legend(['filter 31', 'filter 25', 'filter 23', 'filter 19', 'filter 15', 'filter 13', 'filter 9', 'filter 5', 'filter 3'], loc='lower right', fontsize='xx-large', borderpad=2)\n",
        "plt.xlabel('Epoch', fontsize=20, fontname='Times New Roman')\n",
        "plt.ylabel('Validation Accuracy', fontsize=20, fontname='Times New Roman')\n",
        "plt.yscale('linear') \n",
        "plt.ylim(0.75, 0.9)\n",
        "plt.xlim(0.5, 5.3)\n",
        "plt.tick_params(labelsize=18)\n",
        "\n",
        "plt.show()\n",
        "\n",
        "fig.savefig('models_accuracy.png')\n",
        "plt.close()\n",
        "\n",
        "for i in range(len(h)):\n",
        "    print('data2 filter {0:d} training accuracy = {1:.5f}'.\\\n",
        "          format(filters[i], np.max(h[i].history['accuracy'])))\n",
        "\n",
        "print()\n",
        "\n",
        "for i in range(len(h)):\n",
        "    print('data2 filter {0:d} validation accuracy = {1:.5f}'.\\\n",
        "          format(filters[i], np.max(h[i].history['val_accuracy'])))"
      ],
      "metadata": {
        "id": "iw5e62vC-AEd"
      },
      "execution_count": null,
      "outputs": []
    },
    {
      "cell_type": "code",
      "source": [
        "for i in range(len(model)):\n",
        "    temp = model[i].predict(data['x_test'])\n",
        "    temp = np.argmax(temp, axis=1)\n",
        "\n",
        "    temp = np.mean(temp == data['y_test'])\n",
        "    \n",
        "    print('data2 filter {0:d} testing accuracy = {1:.5f}'.format(filters[i], temp))"
      ],
      "metadata": {
        "id": "g_NbU0LF-JJV"
      },
      "execution_count": null,
      "outputs": []
    },
    {
      "cell_type": "code",
      "source": [
        "for i in range(len(model)):\n",
        "    start = timer()\n",
        "    temp = model[i].predict(data['x_test'][:1, :, :, :])\n",
        "    end = timer()\n",
        "    \n",
        "    print('data2 filter {0:d} classification time = {1:.5f}'.format(filters[i], end - start))"
      ],
      "metadata": {
        "id": "3TV7RBsN-OHT"
      },
      "execution_count": null,
      "outputs": []
    },
    {
      "cell_type": "code",
      "source": [
        "for i in range(len(model)):\n",
        "    w = model[i].get_weights()\n",
        "    print(w[0].shape)\n",
        "\n",
        "    temp = w[0].transpose(3, 0, 1, 2)\n",
        "    print(temp.shape)  \n",
        "\n",
        "    fig = plt.figure()\n",
        "    grid = convert_to_grid(temp)\n",
        "    plt.imshow(grid.astype('uint8'), cmap='gray')\n",
        "    plt.axis('off')\n",
        "    plt.gcf().set_size_inches(10, 10)\n",
        "    name = 'Trained filters ' + str(filters[i]) + 'x' + str(filters[i])\n",
        "    plt.title(name, fontsize=18)\n",
        "    \n",
        "    plt.show()\n",
        "\n",
        "    name = 'filters-' + str(filters[i]) + 'x' + str(filters[i]) + '.png'\n",
        "    fig.savefig(name)\n",
        "    plt.close()"
      ],
      "metadata": {
        "id": "usqYAn4A-Sct"
      },
      "execution_count": null,
      "outputs": []
    },
    {
      "cell_type": "code",
      "source": [
        "%matplotlib inline\n",
        "\n",
        "x_input = data['x_test'][100:101]\n",
        "print(x_input.shape)\n",
        "y_input = data['y_test'][100:101]\n",
        "print(y_input)\n",
        "\n",
        "plt.rcParams['figure.figsize'] = (2.5, 2.5) \n",
        "plt.imshow(x_input[0, :, :, :])\n",
        "plt.axis('off')\n",
        "\n",
        "plt.show()\n",
        "\n",
        "scores = model[0].predict(x_input)\n",
        "print(scores[0].shape)\n",
        "\n",
        "\n",
        "prediction = np.argmax(scores)\n",
        "print('ClassId:', prediction)\n",
        "\n",
        "def label_text(file):\n",
        "    label_list = []\n",
        "    \n",
        "    r = pd.read_csv(file)\n",
        "    for name in r['SignName']:\n",
        "        label_list.append(name)\n",
        "    \n",
        "    return label_list\n",
        "\n",
        "labels = label_text('/content/trafficsigns/label_names.csv')\n",
        "\n",
        "print('Label:', labels[prediction])"
      ],
      "metadata": {
        "id": "gvzufkPA-XAm"
      },
      "execution_count": null,
      "outputs": []
    },
    {
      "cell_type": "code",
      "source": [
        "for i in range(len(model)):\n",
        "    name = 'model-' + str(filters[i]) + 'x' + str(filters[i]) + '.h5'\n",
        "    model[i].save(name)\n"
      ],
      "metadata": {
        "id": "TLmy86etLUMO"
      },
      "execution_count": null,
      "outputs": []
    }
  ]
}